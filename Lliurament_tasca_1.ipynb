{
 "cells": [
  {
   "cell_type": "markdown",
   "metadata": {},
   "source": [
    "## Lliurament tasca 1: Jupyter Notebook i Markdown\n",
    "\n",
    "Aquest lliurament constarà dels següents elements:\n",
    "* Edició de text amb Markdown (llistes, títols, diferents estils de lletra)\n",
    "* Variables\n",
    "* Operacions matemàtiques\n",
    "* Transformació amb càsting (type casting)\n",
    "* Manipulació de Strings\n",
    "* Booleans"
   ]
  },
  {
   "cell_type": "markdown",
   "metadata": {},
   "source": [
    "### Operacions matemàtiques i booleans:\n",
    "\n",
    "El codi següent és una funció que determina si un nombre és una potència de 2:"
   ]
  },
  {
   "cell_type": "code",
   "execution_count": 2,
   "metadata": {},
   "outputs": [],
   "source": [
    "import math\n",
    "\n",
    "def is_power_2(input_num):\n",
    "    \"\"\"Determina si un nombre es una potència de 2 \n",
    "    calculant si el logaritme de 2 és un nombre sencer.\"\"\"\n",
    "    return (math.log(input_num, 2) % 1 == 0)"
   ]
  },
  {
   "cell_type": "markdown",
   "metadata": {},
   "source": [
    "La funció realitza una **operació matemàtica** (logaritme) i retorna un **booleà** (True o False)."
   ]
  },
  {
   "cell_type": "markdown",
   "metadata": {},
   "source": [
    "### Variables, manipulació de Strings i transformació amb càsting (type casting)\n",
    "\n",
    "Ara provem si la funció actua correctament:"
   ]
  },
  {
   "cell_type": "code",
   "execution_count": 3,
   "metadata": {},
   "outputs": [
    {
     "name": "stdout",
     "output_type": "stream",
     "text": [
      "Test 1: És 4 una potència de 2?\n",
      "Resultat esperat: True\n",
      "Resultat obtingut: True\n"
     ]
    }
   ],
   "source": [
    "print(\"Test 1: És 4 una potència de 2?\")\n",
    "test_1 = is_power_2(4)\n",
    "print(\"Resultat esperat: True\")\n",
    "print(f\"Resultat obtingut: {test_1}\")"
   ]
  },
  {
   "cell_type": "code",
   "execution_count": 4,
   "metadata": {},
   "outputs": [
    {
     "name": "stdout",
     "output_type": "stream",
     "text": [
      "Test 2: És 5 una potència de 2?\n",
      "Resultat esperat: False\n",
      "Resultat obtingut: False\n"
     ]
    }
   ],
   "source": [
    "print(\"Test 2: És 5 una potència de 2?\")\n",
    "test_2 = is_power_2(5)\n",
    "print(\"Resultat esperat: False\")\n",
    "print(f\"Resultat obtingut: {test_2}\")"
   ]
  },
  {
   "cell_type": "code",
   "execution_count": 5,
   "metadata": {},
   "outputs": [
    {
     "name": "stdout",
     "output_type": "stream",
     "text": [
      "Test 3: És 32 una potència de 2?\n",
      "Resultat esperat: True\n",
      "Resultat obtingut: True\n"
     ]
    }
   ],
   "source": [
    "print(\"Test 3: És 32 una potència de 2?\")\n",
    "#Transformació amb càsting\n",
    "string_32 = \"32\"\n",
    "test_3 = is_power_2(int(string_32))\n",
    "print(\"Resultat esperat: True\")\n",
    "print(f\"Resultat obtingut: {test_3}\")"
   ]
  },
  {
   "cell_type": "markdown",
   "metadata": {},
   "source": [
    "Cada test es guarda en una **variable**, i per imprimir el resultat estem realitzant una **manipulació de Strings** (formatejant la string per a imprimir la variable del resultat).\n",
    "\n",
    "En el tercer test fem la **transformació amb càsting**, canviant l'argument de la funció de string a int."
   ]
  }
 ],
 "metadata": {
  "kernelspec": {
   "display_name": "Python 3",
   "language": "python",
   "name": "python3"
  },
  "language_info": {
   "codemirror_mode": {
    "name": "ipython",
    "version": 3
   },
   "file_extension": ".py",
   "mimetype": "text/x-python",
   "name": "python",
   "nbconvert_exporter": "python",
   "pygments_lexer": "ipython3",
   "version": "3.8.5"
  }
 },
 "nbformat": 4,
 "nbformat_minor": 4
}
